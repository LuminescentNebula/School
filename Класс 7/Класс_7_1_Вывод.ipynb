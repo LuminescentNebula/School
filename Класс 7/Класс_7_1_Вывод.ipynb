{
 "cells": [
  {
   "cell_type": "markdown",
   "id": "e00d9aad",
   "metadata": {},
   "source": [
    "# Что такое алгоритм?"
   ]
  },
  {
   "cell_type": "markdown",
   "id": "77bbb021",
   "metadata": {},
   "source": [
    "**Алгоритм** — это точное описание порядка действий, которые должен выполнить исполнитель для решения задачи за конечное время."
   ]
  },
  {
   "cell_type": "markdown",
   "id": "7bc12c5e",
   "metadata": {},
   "source": [
    "**Исполнитель** – это устройство или одушёвленное существо (человек), способное понять и выполнить команды, составляющие алгоритм."
   ]
  },
  {
   "cell_type": "markdown",
   "id": "714b8b63",
   "metadata": {},
   "source": [
    "## Свойства алгоритма"
   ]
  },
  {
   "cell_type": "markdown",
   "id": "b54edf02",
   "metadata": {},
   "source": [
    "**Дискретность** — алгоритм состоит из отдельных команд, каждая из которых выполняется за конечное время.\n",
    "\n",
    "**Детерминированность** (определённость) — при каждом запуске алгоритма с одними и теми же исходными данными получается один и тот же результат.\n",
    "\n",
    "**Понятность** — алгоритм содержит только команды, входящие в систему команд исполнителя.\n",
    "\n",
    "**Конечность (результативность)** — для корректного набора данных алгоритм должен завершаться через конечное время.\n",
    "\n",
    "**Корректность** — для допустимых исходных данных алгоритм должен приводить к правильному результату.\n",
    "\n",
    "**Массовость** — алгоритм можно использовать для разных исходных данных."
   ]
  },
  {
   "cell_type": "markdown",
   "id": "46b03b4e",
   "metadata": {},
   "source": [
    "## Представление алгоритма"
   ]
  },
  {
   "attachments": {
    "unnamed.gif": {
     "image/gif": "[encoded data removed]"
    }
   },
   "cell_type": "markdown",
   "id": "1e687713",
   "metadata": {},
   "source": [
    "1) В графическом виде (блок-схема)\n",
    "![unnamed.gif](attachment:unnamed.gif)"
   ]
  },
  {
   "cell_type": "markdown",
   "id": "71d7bc3b",
   "metadata": {},
   "source": [
    "2) В виде псевдокода. \n",
    "\n",
    "`ввести два числа`  \n",
    "`если знаменатель равен нулю, то вывести \"делить на ноль нельзя\"`  \n",
    "`иначе, вычислить их частное`  \n",
    "`вывести частное на экран`  \n",
    "\n",
    "Псевдокод – алгоритм на русском языке с элементами языка программирования.  \n",
    "Компьютер не может исполнять псевдокод."
   ]
  },
  {
   "cell_type": "markdown",
   "id": "db2ef8e8",
   "metadata": {},
   "source": [
    "3) В виде программного кода"
   ]
  },
  {
   "cell_type": "markdown",
   "id": "d2584c73",
   "metadata": {},
   "source": [
    "# Простейшая программа"
   ]
  },
  {
   "cell_type": "code",
   "execution_count": 3,
   "id": "542d80ab",
   "metadata": {},
   "outputs": [],
   "source": [
    "# Это пустая программа\n",
    "# Всё что пишется в строке после решетки - комментарий\n",
    "# Комментарии не обрабатываются компьютером.\n",
    "# Они нужны для того, что делать код более понятным"
   ]
  },
  {
   "cell_type": "code",
   "execution_count": null,
   "id": "8692e18c",
   "metadata": {
    "scrolled": true
   },
   "outputs": [],
   "source": [
    "\"\"\" \n",
    "Комментарии \n",
    "могут \n",
    "быть \n",
    "многострочными\n",
    "в тройных кавычках\n",
    "\"\"\" "
   ]
  },
  {
   "cell_type": "markdown",
   "id": "0e37751c",
   "metadata": {},
   "source": [
    "## Вывод на экран"
   ]
  },
  {
   "cell_type": "markdown",
   "id": "f5028bab",
   "metadata": {},
   "source": [
    "Функция `print()` позволяет выводить информацию на экран. Необходимая информация пишется внутри скобок `()`"
   ]
  },
  {
   "cell_type": "code",
   "execution_count": 7,
   "id": "380dadef",
   "metadata": {
    "scrolled": false
   },
   "outputs": [
    {
     "name": "stdout",
     "output_type": "stream",
     "text": [
      "\n"
     ]
    }
   ],
   "source": [
    "print() #Вывод пустой строки"
   ]
  },
  {
   "cell_type": "code",
   "execution_count": 8,
   "id": "40a15c90",
   "metadata": {},
   "outputs": [
    {
     "name": "stdout",
     "output_type": "stream",
     "text": [
      "4\n"
     ]
    }
   ],
   "source": [
    "print(4) #Вывод числа"
   ]
  },
  {
   "cell_type": "code",
   "execution_count": 9,
   "id": "0c043cdd",
   "metadata": {},
   "outputs": [
    {
     "name": "stdout",
     "output_type": "stream",
     "text": [
      "Hello world\n"
     ]
    }
   ],
   "source": [
    "print ( \"Hello world\" ) #Вывод строки из символов"
   ]
  },
  {
   "cell_type": "code",
   "execution_count": 10,
   "id": "7e4d8158",
   "metadata": {},
   "outputs": [
    {
     "name": "stdout",
     "output_type": "stream",
     "text": [
      "2+2=?\n",
      "Ответ: 4\n"
     ]
    }
   ],
   "source": [
    "#Пример\n",
    "print ( \"2+2=?\" ) \n",
    "print ( \"Ответ: 4\" ) "
   ]
  },
  {
   "cell_type": "markdown",
   "id": "c255ec33",
   "metadata": {},
   "source": [
    "## Чувствительность к отступам"
   ]
  },
  {
   "cell_type": "code",
   "execution_count": null,
   "id": "895b1627",
   "metadata": {},
   "outputs": [],
   "source": [
    "#Все команды должны начинаться с начала строки\n",
    "print() #правильно\n",
    "    print() #не правильно\n",
    "print() #правильно"
   ]
  },
  {
   "cell_type": "markdown",
   "id": "197ab621",
   "metadata": {},
   "source": [
    "## Дополнительные символы"
   ]
  },
  {
   "cell_type": "code",
   "execution_count": 13,
   "id": "5184289b",
   "metadata": {},
   "outputs": [
    {
     "name": "stdout",
     "output_type": "stream",
     "text": [
      "Первая\n",
      "Вторая\n"
     ]
    }
   ],
   "source": [
    "print(\"Первая\\nВторая\") #Символ \"\\n\" добавляет переход на новую строку"
   ]
  },
  {
   "cell_type": "code",
   "execution_count": 14,
   "id": "8bcb1564",
   "metadata": {},
   "outputs": [
    {
     "name": "stdout",
     "output_type": "stream",
     "text": [
      "До\tПосле\n"
     ]
    }
   ],
   "source": [
    "print(\"До\\tПосле\") #Символ \"\\t\" добавляет табуляционный отступ"
   ]
  },
  {
   "cell_type": "markdown",
   "id": "9bcb8097",
   "metadata": {},
   "source": [
    "# Задание"
   ]
  },
  {
   "cell_type": "markdown",
   "id": "0523eaf5",
   "metadata": {},
   "source": [
    "На оценку 4 нужно выполнить задание «4».\n",
    "\n",
    "На оценку 5 нужно выполнить задания «4» и «5».\n",
    "\n",
    "Задание выполняется и сдается на компьютерах на этом уроке, либо выполняться дома и сдается на листочке на следующем уроке. Лучше на уроке."
   ]
  },
  {
   "cell_type": "markdown",
   "id": "e64b94f3",
   "metadata": {},
   "source": [
    "**«4»: Вывести на экран текст «лесенкой»**\n",
    "\n",
    "\t Вася\n",
    "         пошел\n",
    "              гулять\n",
    "              \n",
    "**«5»: Вывести на экран рисунок из букв**\n",
    "\n",
    "\t\t Ж\n",
    "\t\tЖЖЖ\n",
    "       ЖЖЖЖЖ  \n",
    "      ЖЖЖЖЖЖЖ\n",
    "       HH HH\n",
    "       ZZZZZ  \n"
   ]
  }
 ],
 "metadata": {
  "kernelspec": {
   "display_name": "Python 3 (ipykernel)",
   "language": "python",
   "name": "python3"
  },
  "language_info": {
   "codemirror_mode": {
    "name": "ipython",
    "version": 3
   },
   "file_extension": ".py",
   "mimetype": "text/x-python",
   "name": "python",
   "nbconvert_exporter": "python",
   "pygments_lexer": "ipython3",
   "version": "3.10.2"
  }
 },
 "nbformat": 4,
 "nbformat_minor": 5
}
