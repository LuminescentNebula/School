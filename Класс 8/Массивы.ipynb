{
 "cells": [
  {
   "cell_type": "markdown",
   "id": "95cf2882",
   "metadata": {},
   "source": [
    "# Массивы"
   ]
  },
  {
   "cell_type": "markdown",
   "id": "61fe27eb",
   "metadata": {},
   "source": [
    "До этого у вас были задания, в которых надо было считать несколько значений с клавиатуры. Для каждого такого значения вы создавали переменные, но что если считать нужно много значений (тысячи)? Создавать для каждого значения отдельную переменную контрпродуктивно. Для хранения большого количества однотипных данных удобно использовать массивы.\n",
    "\n",
    "Массивы (списки) - структура данных для хранения значений, в которой мы можем обратиться к любому элементу по индексу (позиции).\n",
    "\n",
    "Обычно массивы хранят значения определенного типа, но Python динамический язык, поэтому в нём в массивах могут одновременно находиться и числа, и строки, и логические значения."
   ]
  },
  {
   "cell_type": "markdown",
   "id": "cd8bfdda",
   "metadata": {},
   "source": [
    "## Создание массива и обращение к элементам:\n",
    "Массив создается с помощью квадратных скобок []. Также квадратные скобки являются **оператором** обращения, то есть с помощью них мы можем получать элементы из массива.\n",
    "\n",
    "Чтобы создать массив:"
   ]
  },
  {
   "cell_type": "markdown",
   "id": "9c07842a",
   "metadata": {},
   "source": [
    "1) Можно создать полностью пустой массив"
   ]
  },
  {
   "cell_type": "code",
   "execution_count": 9,
   "id": "fda4fb58",
   "metadata": {},
   "outputs": [
    {
     "name": "stdout",
     "output_type": "stream",
     "text": [
      "[]\n"
     ]
    }
   ],
   "source": [
    "A = []\n",
    "print(A)"
   ]
  },
  {
   "cell_type": "markdown",
   "id": "2ea7fd59",
   "metadata": {},
   "source": [
    "В пустом массиве нет никаких элементов, поэтому мы не можем обратиться к ячейке 3, 1 или любой другой. Их просто нет. Но иногда нам надо записывать элементы в конкретные ячейки, поэтому"
   ]
  },
  {
   "cell_type": "markdown",
   "id": "1a7d38bd",
   "metadata": {},
   "source": [
    "2. Можно заполнить элементы массива одинаковыми значениями"
   ]
  },
  {
   "cell_type": "code",
   "execution_count": 8,
   "id": "ff55dc9b",
   "metadata": {},
   "outputs": [
    {
     "name": "stdout",
     "output_type": "stream",
     "text": [
      "[0, 0, 0, 0, 0]\n"
     ]
    }
   ],
   "source": [
    "A = [0]*5\n",
    "print(A)"
   ]
  },
  {
   "cell_type": "markdown",
   "id": "5ff41a3f",
   "metadata": {},
   "source": [
    "Например можно использовать нейтральные нули. В таком массиве мы сразу можем изменять элемент под нужным индексом."
   ]
  },
  {
   "cell_type": "markdown",
   "id": "267fa145",
   "metadata": {},
   "source": [
    "3) Можно сразу указать в квадратных скобках значения, которые должны быть в массиве"
   ]
  },
  {
   "cell_type": "code",
   "execution_count": 10,
   "id": "fae3ac6e",
   "metadata": {},
   "outputs": [
    {
     "name": "stdout",
     "output_type": "stream",
     "text": [
      "[1, 5, 3, 4, 7]\n"
     ]
    }
   ],
   "source": [
    "A = [1,5,3,4,7]\n",
    "print(A)"
   ]
  },
  {
   "cell_type": "markdown",
   "id": "63593beb",
   "metadata": {},
   "source": [
    "   "
   ]
  },
  {
   "cell_type": "markdown",
   "id": "619fd483",
   "metadata": {},
   "source": [
    "К каждому элементу в массиве можно обратиться:"
   ]
  },
  {
   "cell_type": "code",
   "execution_count": 5,
   "id": "87bc9e75",
   "metadata": {},
   "outputs": [
    {
     "name": "stdout",
     "output_type": "stream",
     "text": [
      "1\n",
      "5\n",
      "3\n",
      "4\n",
      "7\n"
     ]
    }
   ],
   "source": [
    "print(A[0])\n",
    "print(A[1])\n",
    "print(A[2])\n",
    "print(A[3])\n",
    "print(A[4])"
   ]
  },
  {
   "cell_type": "markdown",
   "id": "f167c152",
   "metadata": {},
   "source": [
    "C элементами можно взаимодействовать также как с переменными:  \n",
    "\n",
    "- Мы можем совершать с ними операции"
   ]
  },
  {
   "cell_type": "code",
   "execution_count": 6,
   "id": "af700aea",
   "metadata": {},
   "outputs": [
    {
     "name": "stdout",
     "output_type": "stream",
     "text": [
      "10\n"
     ]
    }
   ],
   "source": [
    "print(A[2]+A[4])"
   ]
  },
  {
   "cell_type": "markdown",
   "id": "ef180139",
   "metadata": {},
   "source": [
    "- Мы можем заменять значения элементов"
   ]
  },
  {
   "cell_type": "code",
   "execution_count": 11,
   "id": "ea97cc5a",
   "metadata": {},
   "outputs": [
    {
     "name": "stdout",
     "output_type": "stream",
     "text": [
      "11\n"
     ]
    }
   ],
   "source": [
    "A[2] = A[3]*2 + A[2]\n",
    "print(A[2])"
   ]
  },
  {
   "cell_type": "markdown",
   "id": "16625279",
   "metadata": {},
   "source": [
    "## Вывод массива"
   ]
  },
  {
   "cell_type": "markdown",
   "id": "9dda5bb1",
   "metadata": {},
   "source": [
    "Мы можем просто передать массив в print, чтобы вывести его"
   ]
  },
  {
   "cell_type": "code",
   "execution_count": 12,
   "id": "522cce8e",
   "metadata": {},
   "outputs": [
    {
     "name": "stdout",
     "output_type": "stream",
     "text": [
      "[1, 5, 11, 4, 7]\n"
     ]
    }
   ],
   "source": [
    "print(A)"
   ]
  },
  {
   "cell_type": "markdown",
   "id": "c3aa564e",
   "metadata": {},
   "source": [
    "Но в этом случае он выведет сразу все элементы с квадратными скобочками и запятыми, что не всегда нам нужно."
   ]
  },
  {
   "cell_type": "markdown",
   "id": "6c404f20",
   "metadata": {},
   "source": [
    "Для работы с элементами всегда удобно использовать циклы:"
   ]
  },
  {
   "cell_type": "markdown",
   "id": "e96a57bd",
   "metadata": {},
   "source": [
    "Для определения размера массива можно использвать функцию `len()`. В цикле будем обращаться к элементам массива по индексу и выводить их последовательно."
   ]
  },
  {
   "cell_type": "code",
   "execution_count": 15,
   "id": "f4c68bcc",
   "metadata": {},
   "outputs": [
    {
     "name": "stdout",
     "output_type": "stream",
     "text": [
      "1 5 11 4 7 "
     ]
    }
   ],
   "source": [
    "N = len(A)\n",
    "for i in range(N):\n",
    "    print(A[i],end=\" \")"
   ]
  },
  {
   "cell_type": "markdown",
   "id": "f5d40343",
   "metadata": {},
   "source": [
    "Но циклы у нас работают нет только с range, а с любыми объектами, которые можно перебирать, а элементы в массиве как раз можно перебирать, поэтому мы можем в цикле перебирать не позиции элементов, а сами элементы:"
   ]
  },
  {
   "cell_type": "code",
   "execution_count": 17,
   "id": "ef2fa05b",
   "metadata": {},
   "outputs": [
    {
     "name": "stdout",
     "output_type": "stream",
     "text": [
      "1 5 11 4 7 "
     ]
    }
   ],
   "source": [
    "for i in A:\n",
    "    print(i, end=\" \")"
   ]
  },
  {
   "cell_type": "markdown",
   "id": "d5ae5b62",
   "metadata": {},
   "source": [
    "Или можно поставить звездочку перед массивом в print"
   ]
  },
  {
   "cell_type": "code",
   "execution_count": 18,
   "id": "78eec39f",
   "metadata": {},
   "outputs": [
    {
     "name": "stdout",
     "output_type": "stream",
     "text": [
      "1 5 11 4 7\n"
     ]
    }
   ],
   "source": [
    "print(*A)"
   ]
  },
  {
   "cell_type": "markdown",
   "id": "cc10e3ed",
   "metadata": {},
   "source": [
    "## Обработка массивов\n"
   ]
  },
  {
   "cell_type": "markdown",
   "id": "41abfcf0",
   "metadata": {},
   "source": [
    "## Заполнение случайными числами"
   ]
  },
  {
   "cell_type": "markdown",
   "id": "298264d8",
   "metadata": {},
   "source": [
    "Поскольку массивы могут хранить много значений вписывать их все с клавиатуры неудобно и занимает много времени, поэтому для проверки алгоритмов обработки удобно использовать случайные числа."
   ]
  },
  {
   "cell_type": "markdown",
   "id": "78904b8f",
   "metadata": {},
   "source": [
    "Для работы со случайными числами есть библиотека random, а в ней метод `randint`, который может генерировать случайные целочисленные значения. `randint` принимает два значения - левая и правая граница диапазона в котором нужно сгенерировать случайное число."
   ]
  },
  {
   "cell_type": "code",
   "execution_count": 23,
   "id": "d516ec32",
   "metadata": {},
   "outputs": [
    {
     "name": "stdout",
     "output_type": "stream",
     "text": [
      "[2, 5, 4, 5, 5]\n"
     ]
    }
   ],
   "source": [
    "from random import randint\n",
    "A = []\n",
    "for i in range(5):\n",
    "    A.append(randint(1,6))\n",
    "print(A)"
   ]
  },
  {
   "cell_type": "markdown",
   "id": "f1ca2610",
   "metadata": {},
   "source": [
    "Поскольку мы создали массив A пустым, то для добавления туда элемента мы используем `append()`, который добавлет указанный элемент в конец массива."
   ]
  },
  {
   "cell_type": "markdown",
   "id": "2d24aa89",
   "metadata": {},
   "source": [
    "Другой способ - работа с массив в котором уже есть ячейки. В этом случае мы не добавляем элемент в конец, а перезаписываем значение, которое находится в массиве на новое, случайное."
   ]
  },
  {
   "cell_type": "code",
   "execution_count": 24,
   "id": "06d3c7a0",
   "metadata": {},
   "outputs": [
    {
     "name": "stdout",
     "output_type": "stream",
     "text": [
      "[2, 4, 2, 2, 1]\n"
     ]
    }
   ],
   "source": [
    "from random import randint\n",
    "A = 5*[0]\n",
    "for i in range(5):\n",
    "  A[i] = randint(1,6)\n",
    "print(A) "
   ]
  },
  {
   "cell_type": "markdown",
   "id": "fc040951",
   "metadata": {},
   "source": [
    "### Подсчет и сумма элементов"
   ]
  },
  {
   "cell_type": "markdown",
   "id": "a4189fda",
   "metadata": {},
   "source": [
    "Циклы являются основой для всех алгоритмов обработки элементов в массиве."
   ]
  },
  {
   "cell_type": "markdown",
   "id": "82aaf9d4",
   "metadata": {},
   "source": [
    "Для этого мы также будем часто использовать **внешнюю пременную** - это переменная которая объявляется вне цикла, но используется внутри цикла для хранения значений.  \n",
    "Пример, подсчет элементов, которые >3: "
   ]
  },
  {
   "cell_type": "code",
   "execution_count": 25,
   "id": "850d2902",
   "metadata": {},
   "outputs": [
    {
     "name": "stdout",
     "output_type": "stream",
     "text": [
      "4\n"
     ]
    }
   ],
   "source": [
    "A = [1, 2, 3, 4, 5, 6, 7]\n",
    "k = 0\n",
    "for i in range(7):\n",
    "  if A[i] > 3: k += 1\n",
    "print(k)"
   ]
  },
  {
   "cell_type": "markdown",
   "id": "3a8f346c",
   "metadata": {},
   "source": [
    "Переменная k - внешняя. Изначально она равна 0.   \n",
    "В цикле проверяется последовательно каждый элемент и, если он >3, то значение k увеличивается на 1."
   ]
  },
  {
   "cell_type": "markdown",
   "id": "36297c6f",
   "metadata": {},
   "source": [
    "Аналогично мы можем проверять любые условия, то есть подсчитывать любые элементы, которые соответвуеют условиям:  \n",
    "`if A[i] % 3 == 0: k += 1` - подсчёт элементов, которые делятся на 3 без остатка  \n",
    "`if(A[i] % 10 == 6 and A[i] % 3 == 0): k += 1` - подсчёт элеметов, которые делятся на 3 без остатка и оканчиваются на 6  \n",
    "`if A[i]%7 == 0: k += 1` - подсчёт элементов, которые делятся на 7 без остатка"
   ]
  },
  {
   "cell_type": "markdown",
   "id": "45b01234",
   "metadata": {},
   "source": [
    "И аналогично мы можем подсчитывать не количество элементов а сумму:"
   ]
  },
  {
   "cell_type": "code",
   "execution_count": 28,
   "id": "1efa3980",
   "metadata": {},
   "outputs": [
    {
     "name": "stdout",
     "output_type": "stream",
     "text": [
      "22\n"
     ]
    }
   ],
   "source": [
    "A = [1, 2, 3, 4, 5, 6, 7]\n",
    "s = 0\n",
    "for i in range(7):\n",
    "  if A[i] > 3: s += A[i]\n",
    "print(s)"
   ]
  },
  {
   "cell_type": "markdown",
   "id": "7718c140",
   "metadata": {},
   "source": [
    "В этом случае мы добавляем к внешеней переменной не 1, а сам элемент."
   ]
  },
  {
   "cell_type": "markdown",
   "id": "104e27f2",
   "metadata": {},
   "source": [
    "### Поиск минимума и максимума"
   ]
  },
  {
   "cell_type": "markdown",
   "id": "f5ad351e",
   "metadata": {},
   "source": [
    "Еще два основных алгоритма для работы с массивами - поиск минимума и максимума среди элементов. Она также работают с помощью внешней переменной."
   ]
  },
  {
   "cell_type": "markdown",
   "id": "bbfd0d3a",
   "metadata": {},
   "source": [
    "Если раньше мы с помощью внешней переменной считали, то теперь мы будем её сравнивать с элементами в массиве."
   ]
  },
  {
   "cell_type": "markdown",
   "id": "31efb790",
   "metadata": {},
   "source": [
    "### Максимум"
   ]
  },
  {
   "cell_type": "code",
   "execution_count": 30,
   "id": "f2156431",
   "metadata": {},
   "outputs": [
    {
     "name": "stdout",
     "output_type": "stream",
     "text": [
      "117\n"
     ]
    }
   ],
   "source": [
    "A = [1, 21, 3, 46, 53, 117, 6]\n",
    "m = 0\n",
    "for i in range(7):\n",
    "  if A[i] > m: m = A[i]\n",
    "print(m)"
   ]
  },
  {
   "cell_type": "markdown",
   "id": "0f737660",
   "metadata": {},
   "source": [
    "Если раньше мы присваивали внешней переменной значение 0 как пустое значение (то есть значащее, что мы пока ничего не посчитатали), то в случае поиска максимума мы устанавливаем в m то значение, которое будет _меньше_ всех элементов, которые есть в массиве. "
   ]
  },
  {
   "cell_type": "markdown",
   "id": "29f2c046",
   "metadata": {},
   "source": [
    "Причём мы не берем это число из головы, мы вибираем его только исходя из условий. В примерах будем считать, что у нас числа в массивах могут быть от 1 до 998 включительно."
   ]
  },
  {
   "cell_type": "markdown",
   "id": "490c8a4c",
   "metadata": {},
   "source": [
    "В цикле мы будем сравнивать каждый элемент массива с тем значенем, которое хранится в внешней переменной. Если элемент оказался больше, то мы заменяем значение внешней переменной на значение этого элемента. Поскольку элементы проверяются последовательно, то в внешней переменной каждый раз будет находиться самое большое значение которое было найдено, а в конце в ней будет самое больше значение, которое было в массиве, то есть максимум.\n",
    "\n"
   ]
  },
  {
   "cell_type": "markdown",
   "id": "6bfbb966",
   "metadata": {},
   "source": [
    "### Минимум"
   ]
  },
  {
   "cell_type": "code",
   "execution_count": 1,
   "id": "a68f7cf4",
   "metadata": {},
   "outputs": [
    {
     "name": "stdout",
     "output_type": "stream",
     "text": [
      "1\n"
     ]
    }
   ],
   "source": [
    "A = [1, 21, 3, 46, 53, 117, 6]\n",
    "m = 999\n",
    "for i in range(7):\n",
    "  if A[i] < m: m = A[i]\n",
    "print(m)"
   ]
  },
  {
   "cell_type": "markdown",
   "id": "ec3739de",
   "metadata": {},
   "source": [
    "Для поиска минимума алгоритм точно такой же, но заменяетс язнак сравнения с больше на меньше и внешней переменной в начлае присваивается значение, которое точно больше всех элементов, которые есть в массиве."
   ]
  },
  {
   "cell_type": "markdown",
   "id": "84848ee0",
   "metadata": {},
   "source": [
    "Но что делать, если диапазон значений массива неизвестен? Если внимательно посмотреть на алгоритмы, то заметим поскольку внешняя переменная m меньше всех других в начале алгоритма, то уже на первой итерации она будет гарантировано заменена значением первого элемента, потому что все элементы массива гарантировано больше, чем то значение, которое было вписано в m, до начала обработки массива. Аналогично с минимумом, где значение переменной тоже гарантированно заменяется уже на первом элементе.\n",
    "\n",
    "Поэтому можно изначально присвоить, что внешняя перменная равна первому элементу."
   ]
  },
  {
   "cell_type": "code",
   "execution_count": null,
   "id": "c9f90ff9",
   "metadata": {},
   "outputs": [],
   "source": [
    "A = [... ...]\n",
    "N = len(A) # длина массива\n",
    "m = A[0]\n",
    "for i in range(N):\n",
    "  if A[i] < m: m = A[i]\n",
    "print(m)"
   ]
  }
 ],
 "metadata": {
  "kernelspec": {
   "display_name": "Python 3 (ipykernel)",
   "language": "python",
   "name": "python3"
  },
  "language_info": {
   "codemirror_mode": {
    "name": "ipython",
    "version": 3
   },
   "file_extension": ".py",
   "mimetype": "text/x-python",
   "name": "python",
   "nbconvert_exporter": "python",
   "pygments_lexer": "ipython3",
   "version": "3.10.2"
  }
 },
 "nbformat": 4,
 "nbformat_minor": 5
}
