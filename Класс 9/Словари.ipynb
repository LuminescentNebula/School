{
 "cells": [
  {
   "cell_type": "markdown",
   "id": "be9ea31c",
   "metadata": {},
   "source": [
    "# Словари"
   ]
  },
  {
   "cell_type": "markdown",
   "id": "bb673594",
   "metadata": {},
   "source": [
    "Словарь — это структура данных, которая хранит пары «ключ — значение» (записи). Пример: телефонная книга, где имя — это ключ, а номер — значение."
   ]
  },
  {
   "cell_type": "code",
   "execution_count": 14,
   "id": "9808f96a",
   "metadata": {},
   "outputs": [
    {
     "name": "stdout",
     "output_type": "stream",
     "text": [
      "{'Иван': '89160000000', 'Ольга': '89251111111'}\n"
     ]
    }
   ],
   "source": [
    "phonebook = {\"Иван\": \"89160000000\", \"Ольга\": \"89251111111\"}\n",
    "print(phonebook)"
   ]
  },
  {
   "cell_type": "markdown",
   "id": "bcd40ebd",
   "metadata": {},
   "source": [
    "Если для получение элемента в массиве под известным индексом на требуется 1 операция (О(1)), то для получения индекса известного элемента нам требуется от n операций, где n-количество элементов в массиве (O(n) - поиск в массиве) . "
   ]
  },
  {
   "cell_type": "markdown",
   "id": "503c0654",
   "metadata": {},
   "source": [
    "В словаре поиск по ключу происходит очень быстро (O(1)), даже в большом объёме данных, за счёт того, что мы сразу знаем в какой участок памяти обращаться. "
   ]
  },
  {
   "cell_type": "code",
   "execution_count": 15,
   "id": "69342ae6",
   "metadata": {},
   "outputs": [
    {
     "name": "stdout",
     "output_type": "stream",
     "text": [
      "89160000000\n"
     ]
    }
   ],
   "source": [
    "print(phonebook[\"Иван\"])"
   ]
  },
  {
   "cell_type": "markdown",
   "id": "1fa71fbf",
   "metadata": {},
   "source": [
    "Другое название словарей - хеш-таблицы.  \n",
    "Словари работают по такому принципу: мы хешируем (преобразуем в число) ключ и вставляем в соответсвующее числу место в в памяти запись."
   ]
  },
  {
   "cell_type": "markdown",
   "id": "cf73b58b",
   "metadata": {},
   "source": [
    "# Хеширование"
   ]
  },
  {
   "cell_type": "markdown",
   "id": "8b5c1815",
   "metadata": {},
   "source": [
    "Хеш — это особая функция, которая преобразует данные (например, строку) в некоторое число фиксированной длины"
   ]
  },
  {
   "cell_type": "markdown",
   "id": "629b823e",
   "metadata": {},
   "source": [
    "В Python для получения хеша есть встроенная функция hash():\n",
    "\n"
   ]
  },
  {
   "cell_type": "code",
   "execution_count": 16,
   "id": "dc2bfc09",
   "metadata": {},
   "outputs": [
    {
     "name": "stdout",
     "output_type": "stream",
     "text": [
      "1054698636696948047\n",
      "123\n"
     ]
    }
   ],
   "source": [
    "print(hash(\"Иван\"))\n",
    "print(hash(123)) "
   ]
  },
  {
   "cell_type": "markdown",
   "id": "c93d815b",
   "metadata": {},
   "source": [
    "А также библиотека [hashlib](https://docs.python.org/3/library/hashlib.html#hash-algorithms), которая имеет функции с уже написанными популярными алгоритмами хеширования. "
   ]
  },
  {
   "cell_type": "code",
   "execution_count": 39,
   "id": "311ceb8f",
   "metadata": {
    "scrolled": true
   },
   "outputs": [
    {
     "name": "stdout",
     "output_type": "stream",
     "text": [
      "cc0781950ffebec65a7f552e099f5111dc6526384615f13801e3f0d25b38e960\n",
      "92285083384435061784370917080817754257140117280019516276158720982859724155232\n"
     ]
    }
   ],
   "source": [
    "import hashlib\n",
    "h=hashlib.sha256(\"Иван\".encode('utf-8')).hexdigest()\n",
    "print(h)\n",
    "print(int(h,16))\n"
   ]
  },
  {
   "cell_type": "markdown",
   "id": "a801b85e",
   "metadata": {},
   "source": [
    "Простую хеш функцию вы можете написать сами.  \n",
    "1.Выбрать параметры:\n",
    "- Простое число prime — базовое число для вычислений (например, 31).\n",
    "- Простое число mod — размер области хеш-значений (например, 101).\n",
    "\n",
    "2. Инициализация:\n",
    "- Задать начальное значение хеша равным 0.\n",
    "\n",
    "3. Пройти по каждому символу по порядку.\n",
    "- Получить числовой код символа (используется функция ord).\n",
    "- Перемножить текущий хеш на prime и прибавить код символа.\n",
    "- Взять остаток от деления на mod (операция % mod), чтобы ограничить размер числа и \"перемешать\" значения.\n",
    "\n",
    "4. Результат:\n",
    "- Полученное число — это итоговый хеш ключа."
   ]
  },
  {
   "cell_type": "code",
   "execution_count": 43,
   "id": "1b2fcf88",
   "metadata": {},
   "outputs": [
    {
     "name": "stdout",
     "output_type": "stream",
     "text": [
      "22\n",
      "12\n",
      "83\n"
     ]
    }
   ],
   "source": [
    "def simple_hash(s, prime=31, mod=101):\n",
    "    ...\n",
    "\n",
    "print(simple_hash(\"Иван\"))\n",
    "print(simple_hash(\"Ира\"))\n",
    "print(simple_hash(\"Вася\"))"
   ]
  },
  {
   "cell_type": "markdown",
   "id": "c079f237",
   "metadata": {},
   "source": [
    "Рассмотрим алгоритм использования хеширования в словарях:\n",
    "\n",
    "1. Когда появляется новая запись, вычисляется хеш (число) ключа.\n",
    "\n",
    "2. Это число превращается в индекс массива (например, делением с остатком):\n",
    "`index=hash(key)%размер_массива`\n",
    "\n",
    "3. В массиве по этому индексу проверяется, есть ли уже такой ключ.\n",
    "\n",
    "4. Если нет — записывается новая пара «ключ—значение»; если да — значение обновляется."
   ]
  },
  {
   "cell_type": "markdown",
   "id": "e98ddc93",
   "metadata": {},
   "source": [
    "НО, если хеш у двух ключей совпадет, то произойдет коллизия  \n",
    "to be continued"
   ]
  },
  {
   "cell_type": "markdown",
   "id": "74ae4ae0",
   "metadata": {},
   "source": [
    "# Задание"
   ]
  },
  {
   "cell_type": "markdown",
   "id": "7862a6ff",
   "metadata": {},
   "source": [
    "1) Написать свою хеш функцию"
   ]
  },
  {
   "cell_type": "markdown",
   "id": "9682baf2",
   "metadata": {},
   "source": [
    "2) Написать свой словарь"
   ]
  }
 ],
 "metadata": {
  "kernelspec": {
   "display_name": "Python 3 (ipykernel)",
   "language": "python",
   "name": "python3"
  },
  "language_info": {
   "codemirror_mode": {
    "name": "ipython",
    "version": 3
   },
   "file_extension": ".py",
   "mimetype": "text/x-python",
   "name": "python",
   "nbconvert_exporter": "python",
   "pygments_lexer": "ipython3",
   "version": "3.10.2"
  }
 },
 "nbformat": 4,
 "nbformat_minor": 5
}
